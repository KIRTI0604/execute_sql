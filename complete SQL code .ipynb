{
 "cells": [
  {
   "cell_type": "code",
   "execution_count": 4,
   "metadata": {},
   "outputs": [],
   "source": [
    "import mysql.connector\n",
    "mydb=mysql.connector.connect(host= 'localhost',user='root',password='abc123' )\n",
    "#print(mydb.connection_id)\n",
    "cur=mydb.cursor()\n",
    "s=\"create database db4\"\n",
    "cur.execute(s)\n",
    "mydb.commit()"
   ]
  },
  {
   "cell_type": "code",
   "execution_count": 9,
   "metadata": {},
   "outputs": [],
   "source": [
    "import mysql.connector\n",
    "mydb=mysql.connector.connect(host= 'localhost',user='root',password='abc123',database='db4' )\n",
    "#print(mydb.connection_id)\n",
    "cur=mydb.cursor()\n",
    "s=\"create table book1(bookid integer, booktitle varchar(20),price float(5,2))\"\n",
    "cur.execute(s)\n",
    "mydb.commit()"
   ]
  },
  {
   "cell_type": "code",
   "execution_count": 13,
   "metadata": {},
   "outputs": [],
   "source": [
    "import mysql.connector as myc\n",
    "mydb=mysql.connector.connect(host= 'localhost',user='root',password='abc123',database='db4' )\n",
    "#print(mydb.connection_id)\n",
    "cur=mydb.cursor()\n",
    "s=\"insert into book1 (bookid,booktitle,price) values(%s,%s,%s)\"\n",
    "b1=(34,\"biggner python\",23.00)\n",
    "b2=(23,\"black book java\",44.00)\n",
    "s1=\"insert into book1 (bookid,booktitle,price) values(122,'c++ e balaguruswamy',22.89)\"\n",
    "cur.execute(s1)\n",
    "cur.execute(s,b1)\n",
    "cur.execute(s,b2)\n",
    "mydb.commit()\n"
   ]
  },
  {
   "cell_type": "code",
   "execution_count": 15,
   "metadata": {},
   "outputs": [],
   "source": [
    "import mysql.connector\n",
    "mydb=mysql.connector.connect(host= 'localhost',user='root',password='abc123',database='db4' )\n",
    "#print(mydb.connection_id)\n",
    "cur=mydb.cursor()\n",
    "s=\"delete from book1 where price>40\"\n",
    "cur.execute(s)\n",
    "mydb.commit()\n"
   ]
  },
  {
   "cell_type": "code",
   "execution_count": null,
   "metadata": {},
   "outputs": [],
   "source": [
    "import mysql.connector\n",
    "mydb=mysql.connector.connect(host= 'localhost',user='root',password='abc123',database='db4' )\n",
    "#print(mydb.connection_id)\n",
    "cur=mydb.cursor()\n",
    "s=\"update book1 set price=price*2\"\n",
    "cur.execute(s)\n",
    "mydb.commit()\n"
   ]
  },
  {
   "cell_type": "code",
   "execution_count": null,
   "metadata": {},
   "outputs": [],
   "source": [
    "import mysql.connector\n",
    "mydb=mysql.connector.connect(host= 'localhost',user='root',password='abc123',database='db4' )\n",
    "#print(mydb.connection_id)\n",
    "cur=mydb.cursor()\n",
    "s=\"alter table book1 add(publisher varchar(10))\"\n",
    "cur.execute(s)\n",
    "mydb.commit()"
   ]
  },
  {
   "cell_type": "code",
   "execution_count": null,
   "metadata": {},
   "outputs": [],
   "source": [
    "import mysql.connector as myc\n",
    "mydb=myc.connect(host= 'localhost',user='root',password='abc123',database='db4' )\n",
    "#print(mydb.connection_id)\n",
    "cur=mydb.cursor()\n",
    "s=\"select * from book1\"\n",
    "\n",
    "\n",
    "\n",
    "cur.execute(s)\n",
    "result=cur.fetchall()\n",
    "for r in result:\n",
    "    print(r)\n"
   ]
  },
  {
   "cell_type": "code",
   "execution_count": null,
   "metadata": {},
   "outputs": [],
   "source": [
    "import mysql.connector as myc\n",
    "mydb=mysql.connector.connect(host= 'localhost',user='root',password='abc123' )\n",
    "print(mydb.connection_id)"
   ]
  },
  {
   "cell_type": "code",
   "execution_count": null,
   "metadata": {},
   "outputs": [],
   "source": []
  }
 ],
 "metadata": {
  "kernelspec": {
   "display_name": "Python 3",
   "language": "python",
   "name": "python3"
  },
  "language_info": {
   "codemirror_mode": {
    "name": "ipython",
    "version": 3
   },
   "file_extension": ".py",
   "mimetype": "text/x-python",
   "name": "python",
   "nbconvert_exporter": "python",
   "pygments_lexer": "ipython3",
   "version": "3.7.6"
  }
 },
 "nbformat": 4,
 "nbformat_minor": 4
}
